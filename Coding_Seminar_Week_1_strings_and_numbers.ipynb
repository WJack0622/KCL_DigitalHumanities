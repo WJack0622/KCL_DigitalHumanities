{
 "cells": [
  {
   "cell_type": "markdown",
   "metadata": {},
   "source": [
    "# KCL, DDH: 7AAVDH10 Coding and the Humanities\n",
    "\n",
    "## Coding and the Humanities 1: Seminar Week 1"
   ]
  },
  {
   "cell_type": "markdown",
   "metadata": {},
   "source": [
    "# The basics of Python"
   ]
  },
  {
   "cell_type": "markdown",
   "metadata": {},
   "source": [
    "To run a cell, select the cell (the box below) and do ONE of:\n",
    "- Shift + Enter (easiest)\n",
    "- \"Run\" on the menu bar above -> \"Run Selected Cell\"\n",
    "- Click the button below the menu bar (a rigth arrow like the one for \"play\")."
   ]
  },
  {
   "cell_type": "code",
   "metadata": {
    "jupyter": {
     "is_executing": true
    }
   },
   "source": [
    "1+1"
   ],
   "outputs": [],
   "execution_count": null
  },
  {
   "cell_type": "code",
   "metadata": {
    "jupyter": {
     "is_executing": true
    }
   },
   "source": [
    "print(\"hello world\")"
   ],
   "outputs": [],
   "execution_count": null
  },
  {
   "cell_type": "code",
   "execution_count": null,
   "metadata": {},
   "outputs": [],
   "source": [
    "1+1"
   ]
  },
  {
   "cell_type": "markdown",
   "metadata": {},
   "source": [
    "Okay! You are officially a Python power user now 😎"
   ]
  },
  {
   "cell_type": "markdown",
   "metadata": {},
   "source": [
    "# Run each cell below as you work through the Notebook"
   ]
  },
  {
   "cell_type": "markdown",
   "metadata": {},
   "source": [
    "## Hello world!"
   ]
  },
  {
   "cell_type": "code",
   "execution_count": null,
   "metadata": {},
   "outputs": [],
   "source": [
    "# When you use the \"hashtag\" character (`#`) to \"comment\" text in a cell, it will not be recognized as Python code.\n",
    "# Comment text is good for writing notes to yourself, notes to collaborators,\n",
    "# and for code documentation purposes."
   ]
  },
  {
   "cell_type": "markdown",
   "metadata": {},
   "source": [
    "### TO DO:\n",
    "\n",
    "\"Uncomment\" the line below by removing the `#` at the front and running the cell"
   ]
  },
  {
   "cell_type": "code",
   "execution_count": null,
   "metadata": {},
   "outputs": [],
   "source": [
    "# print(\"Hello world\")"
   ]
  },
  {
   "cell_type": "markdown",
   "metadata": {},
   "source": [
    "## Strings\n",
    "\n",
    "There are two basic types of data in Python: strings (characters in quotations marks), and numbers (including integers and 'floats').\n",
    "\n",
    "A string is sequence of characters, including letters and numbers. Normal \"text\", if you will.\n"
   ]
  },
  {
   "cell_type": "code",
   "execution_count": null,
   "metadata": {},
   "outputs": [],
   "source": [
    "# This is a string:\n",
    "\n",
    "\"Hello\""
   ]
  },
  {
   "cell_type": "code",
   "execution_count": null,
   "metadata": {},
   "outputs": [],
   "source": [
    "# This is a string:\n",
    "\n",
    "\"a\""
   ]
  },
  {
   "cell_type": "code",
   "execution_count": null,
   "metadata": {},
   "outputs": [],
   "source": [
    "# This is a string:\n",
    "\n",
    "\".\""
   ]
  },
  {
   "cell_type": "code",
   "execution_count": null,
   "metadata": {},
   "outputs": [],
   "source": [
    "# Strings are usually wrapped in double or in single quotes.\n",
    "# You can use either one when you code strings in Python, whichever you prefer.\n",
    "\n",
    "'World'"
   ]
  },
  {
   "cell_type": "code",
   "execution_count": null,
   "metadata": {},
   "outputs": [],
   "source": [
    "# This is also a string, even though it contains numbers:\n",
    "\n",
    "\"eijoij0183iojio\""
   ]
  },
  {
   "cell_type": "code",
   "execution_count": null,
   "metadata": {},
   "outputs": [],
   "source": [
    "# This is also a string:\n",
    "\n",
    "\"The quick brown fox\""
   ]
  },
  {
   "cell_type": "code",
   "execution_count": null,
   "metadata": {},
   "outputs": [],
   "source": [
    "# A string is any series of characters -- letters, punctuation marks, numbers -- which\n",
    "# in Python are always wrapped in quotation marks.\n",
    "\n",
    "# Strings are a fundamental concept in coding, computational linguistics, \n",
    "# and natural language processing."
   ]
  },
  {
   "cell_type": "markdown",
   "metadata": {},
   "source": [
    "### Concatenation: \"Adding\" strings \n",
    "\n",
    "When you \"add\" string `b` to string `a`, you \"concatenate\" the two strings."
   ]
  },
  {
   "cell_type": "code",
   "execution_count": null,
   "metadata": {},
   "outputs": [],
   "source": [
    "# for example: add 'world' to 'Hello'\n",
    "\n",
    "'Hello' + 'world'"
   ]
  },
  {
   "cell_type": "code",
   "execution_count": null,
   "metadata": {},
   "outputs": [],
   "source": [
    "# Not what you expected? Python, when working with pure strings, does not have a \n",
    "# native understanding of the concept of \"word\". Python only understands strings as\n",
    "# lines of characters.\n",
    "# So to concatenate strings and end up with human-readable sentences, you need to add spaces.\n",
    "\n",
    "# One way to add spaces is to concatenate a whitespace, \" \"\n",
    "\n",
    "\"Hello\" + \" \" + \"world\""
   ]
  },
  {
   "cell_type": "code",
   "execution_count": null,
   "metadata": {},
   "outputs": [],
   "source": []
  },
  {
   "cell_type": "markdown",
   "metadata": {},
   "source": [
    "### TO DO: Say \"Hello\" to a friend of yours using spaces and +"
   ]
  },
  {
   "cell_type": "code",
   "execution_count": null,
   "metadata": {},
   "outputs": [],
   "source": []
  },
  {
   "cell_type": "markdown",
   "metadata": {},
   "source": [
    "You don't always need to be adding + \" \" + when working with strings.\n",
    "Other options include adding the space into one of your strings."
   ]
  },
  {
   "cell_type": "code",
   "execution_count": null,
   "metadata": {},
   "outputs": [],
   "source": [
    "\"Hello \" + \"World\""
   ]
  },
  {
   "cell_type": "markdown",
   "metadata": {},
   "source": [
    "## Numbers ('integers' and 'floats')\n",
    "\n",
    "Numbers, whether integers or 'floats' (numbers with decimal places), are understood\n",
    "by Python differently from strings"
   ]
  },
  {
   "cell_type": "code",
   "execution_count": null,
   "metadata": {},
   "outputs": [],
   "source": [
    "# This is an integer:\n",
    "\n",
    "5"
   ]
  },
  {
   "cell_type": "code",
   "execution_count": null,
   "metadata": {},
   "outputs": [],
   "source": [
    "# Integers can be negative\n",
    "\n",
    "-1"
   ]
  },
  {
   "cell_type": "code",
   "execution_count": null,
   "metadata": {},
   "outputs": [],
   "source": [
    "# This is a \"float\", short for \"floating points\": numbers with numerals after the decimal place\n",
    "\n",
    "123.023"
   ]
  },
  {
   "cell_type": "code",
   "execution_count": null,
   "metadata": {},
   "outputs": [],
   "source": [
    "# This is also a float\n",
    "\n",
    "123.1321151341341534134131231531123213"
   ]
  },
  {
   "cell_type": "markdown",
   "metadata": {},
   "source": [
    "### Arithmetic on ints and floats"
   ]
  },
  {
   "cell_type": "code",
   "execution_count": null,
   "metadata": {},
   "outputs": [],
   "source": [
    "# Addition\n",
    "\n",
    "123 + 50.262"
   ]
  },
  {
   "cell_type": "code",
   "execution_count": null,
   "metadata": {},
   "outputs": [],
   "source": [
    "# Substraction\n",
    "\n",
    "123.363 - 50"
   ]
  },
  {
   "cell_type": "code",
   "execution_count": null,
   "metadata": {},
   "outputs": [],
   "source": [
    "# Multiplication\n",
    "\n",
    "123.22 * 50"
   ]
  },
  {
   "cell_type": "code",
   "execution_count": null,
   "metadata": {},
   "outputs": [],
   "source": [
    "# Division\n",
    "\n",
    "123 / 50.373"
   ]
  },
  {
   "cell_type": "code",
   "execution_count": null,
   "metadata": {},
   "outputs": [],
   "source": [
    "# Exponentials\n",
    "\n",
    "3 ** 2"
   ]
  },
  {
   "cell_type": "code",
   "execution_count": null,
   "metadata": {},
   "outputs": [],
   "source": [
    "# As in mathematics, multiplication/division takes precedence over addition/subtraction\n",
    "\n",
    "1 + 2 * 3"
   ]
  },
  {
   "cell_type": "code",
   "execution_count": null,
   "metadata": {},
   "outputs": [],
   "source": [
    "# When in doubt, just add parentheses\n",
    "\n",
    "(1 + 2) * 3"
   ]
  },
  {
   "cell_type": "markdown",
   "metadata": {},
   "source": [
    "## Strings vs. Numbers, and different types of values"
   ]
  },
  {
   "cell_type": "code",
   "execution_count": null,
   "metadata": {},
   "outputs": [],
   "source": [
    "# We'll get much deeper into functions and Booleans (true/false statements) later, but \n",
    "# let's use a simple one now: equals. For equals, we need to use two ==, because = in \n",
    "# Python syntax means to define a variable (we'll get to that in a few minutes).\n",
    "\n",
    "5 == 5.000000"
   ]
  },
  {
   "cell_type": "code",
   "execution_count": null,
   "metadata": {},
   "outputs": [],
   "source": [
    "# Now try this one:\n",
    "\n",
    "5 == 5.000001"
   ]
  },
  {
   "cell_type": "code",
   "execution_count": null,
   "metadata": {},
   "outputs": [],
   "source": [
    "# Now try this:\n",
    "\n",
    "1001 == \"1001\""
   ]
  },
  {
   "cell_type": "markdown",
   "metadata": {},
   "source": [
    "Why is this false? Because the `1001` on the left is a NUMBER (more specifically, an INTEGER),\n",
    "and the \"1001\" on the right is a STRING, because it is wrapped in quotation marks.\n",
    "\n",
    "THIS IS THE MOST IMPORTANT CONCEPT FOR YOU TO UNDERSTAND TODAY.\n",
    "If you don't understand this, raise your hand now, please.\n",
    "\n",
    "Eventually we will work with different types of data in Python: string, dataframe, lists, etc.\n",
    "When in doubt, check the type of data you are working with using type()\n",
    "In Python, a value always has a type (a variable can be any type). \n",
    "The type determines what operations are valid."
   ]
  },
  {
   "cell_type": "code",
   "execution_count": null,
   "metadata": {},
   "outputs": [],
   "source": [
    "type(123)"
   ]
  },
  {
   "cell_type": "code",
   "execution_count": null,
   "metadata": {},
   "outputs": [],
   "source": [
    "type(12.27272)"
   ]
  },
  {
   "cell_type": "code",
   "execution_count": null,
   "metadata": {},
   "outputs": [],
   "source": [
    "type(\"The quick brown fox\")"
   ]
  },
  {
   "cell_type": "code",
   "execution_count": null,
   "metadata": {},
   "outputs": [],
   "source": [
    "# These are numbers (integers or floats), so we can do arithmetic:\n",
    "\n",
    "3 + 3.568"
   ]
  },
  {
   "cell_type": "code",
   "execution_count": null,
   "metadata": {},
   "outputs": [],
   "source": [
    "# These are strings, so they are treated as \"text\":\n",
    "\n",
    "\"3\" + \"12.122\""
   ]
  },
  {
   "cell_type": "markdown",
   "metadata": {},
   "source": [
    "If you are not sure if you are dealing with a string or number or other kinds of data,\n",
    "use `type()` to have Python tell you what it is, like we did above."
   ]
  },
  {
   "cell_type": "code",
   "execution_count": null,
   "metadata": {},
   "outputs": [],
   "source": [
    "# Now try this:\n",
    "\n",
    "\"150\" - 4"
   ]
  },
  {
   "cell_type": "markdown",
   "metadata": {},
   "source": [
    "As you learn Python, you will inevitably encounter errors \n",
    "when you make a mistake in the code.\n",
    "\n",
    "FIRST RULE OF ERRORS IN PYTHON: Don't panic!\n",
    "\n",
    "Encountering errors, and calmly fixing them, is a fundamental practice in coding. \n",
    "\n",
    "Here, we tried to subtract the integer `4` from the string \"150\",\n",
    "but this is an invalid operation, as \"150\" is a string, not a number.\n",
    "\n",
    "Python error messages helpfully point to the line of code where the problem is."
   ]
  },
  {
   "cell_type": "markdown",
   "metadata": {},
   "source": [
    "## Converting between numbers and strings\n",
    "\n",
    "You can convert between numbers and strings, as long as the string contains only numbers.\n",
    "We do this using a function, str()\n",
    "Let's convert the number 1001 into a string:"
   ]
  },
  {
   "cell_type": "code",
   "execution_count": null,
   "metadata": {},
   "outputs": [],
   "source": [
    "str(1001)"
   ]
  },
  {
   "cell_type": "markdown",
   "metadata": {},
   "source": [
    "### TO DO: convert the number `999` into a string"
   ]
  },
  {
   "cell_type": "code",
   "execution_count": null,
   "metadata": {},
   "outputs": [],
   "source": []
  },
  {
   "cell_type": "code",
   "execution_count": null,
   "metadata": {},
   "outputs": [],
   "source": [
    "# In the above example, the number 1001 has been converted to a string, \"1001\".\n",
    "\n",
    "# You can convert strings to numbers using a different function: int()\n",
    "\n",
    "int(\"12234\")"
   ]
  },
  {
   "cell_type": "markdown",
   "metadata": {},
   "source": [
    "### TO DO: convert the string \"333\" into an integer"
   ]
  },
  {
   "cell_type": "code",
   "execution_count": null,
   "metadata": {},
   "outputs": [],
   "source": []
  },
  {
   "cell_type": "code",
   "execution_count": null,
   "metadata": {},
   "outputs": [],
   "source": [
    "# Watch out! An integer is a whole number. Converting form a float to an int rounds down:\n",
    "\n",
    "int(3.99)"
   ]
  },
  {
   "cell_type": "markdown",
   "metadata": {},
   "source": [
    "## By the way, save often in Jupyter Notebooks!\n",
    "\n",
    "Jupyter Notebooks don't autosave often, as in most applications you are used to. You can save with the disk icon button in the upper left corner, above."
   ]
  },
  {
   "cell_type": "markdown",
   "metadata": {},
   "source": [
    "# Variables\n",
    "\n",
    "A variable stores the result of an expression so that it can be re-used.\n",
    "A variable is created/updated using \"=\"."
   ]
  },
  {
   "cell_type": "code",
   "execution_count": null,
   "metadata": {},
   "outputs": [],
   "source": [
    "x = \"This is a string\""
   ]
  },
  {
   "cell_type": "code",
   "execution_count": null,
   "metadata": {},
   "outputs": [],
   "source": [
    "x"
   ]
  },
  {
   "cell_type": "code",
   "execution_count": null,
   "metadata": {},
   "outputs": [],
   "source": [
    "z = \"toijoijj\""
   ]
  },
  {
   "cell_type": "code",
   "execution_count": null,
   "metadata": {},
   "outputs": [],
   "source": [
    "z"
   ]
  },
  {
   "cell_type": "code",
   "execution_count": null,
   "metadata": {},
   "outputs": [],
   "source": [
    "# Above, you first assigned (or defined) the variable x as the string, \"This is a string\"\n",
    "\n",
    "# Then you \"called\" the variable x"
   ]
  },
  {
   "cell_type": "markdown",
   "metadata": {},
   "source": [
    "### TO DO:\n",
    "\n",
    "Define a variable, `y`, as some string of your choice. Then, call `y`."
   ]
  },
  {
   "cell_type": "code",
   "execution_count": null,
   "metadata": {},
   "outputs": [],
   "source": []
  },
  {
   "cell_type": "code",
   "execution_count": null,
   "metadata": {},
   "outputs": [],
   "source": [
    "# Variables can be assigned using a single =\n",
    "# Once you assign a variable, you can do things with it, like concatenate strings or \n",
    "# perform arithmetic on numbers\n",
    "\n",
    "first_name = \"Molly\"\n",
    "last_name = \"Malone\"\n",
    "\n",
    "first_name + \" \" + last_name"
   ]
  },
  {
   "cell_type": "code",
   "execution_count": null,
   "metadata": {},
   "outputs": [],
   "source": [
    "first_name"
   ]
  },
  {
   "cell_type": "code",
   "execution_count": null,
   "metadata": {},
   "outputs": [],
   "source": []
  },
  {
   "cell_type": "code",
   "execution_count": null,
   "metadata": {},
   "outputs": [],
   "source": []
  },
  {
   "cell_type": "code",
   "execution_count": null,
   "metadata": {},
   "outputs": [],
   "source": [
    "num1 = 123\n",
    "num2 = 50\n",
    "\n",
    "num1 + num2"
   ]
  },
  {
   "cell_type": "code",
   "execution_count": null,
   "metadata": {},
   "outputs": [],
   "source": [
    "num1 / num2"
   ]
  },
  {
   "cell_type": "code",
   "execution_count": null,
   "metadata": {},
   "outputs": [],
   "source": [
    "friend = \"John\"\n",
    "friend"
   ]
  },
  {
   "cell_type": "markdown",
   "metadata": {},
   "source": [
    "### TO DO:\n",
    "\n",
    "Assign a variable to store your friend's name,\n",
    "then write some code to generate the code, \"hello, [friend's name]\""
   ]
  },
  {
   "cell_type": "code",
   "execution_count": null,
   "metadata": {},
   "outputs": [],
   "source": []
  },
  {
   "cell_type": "markdown",
   "metadata": {},
   "source": [
    "### TO DO:\n",
    "\n",
    "I have 8 more hours of work. How many more minutes of work do I still have to do?\n",
    "Solve this using variables, and have a final variable, minutes_of_work"
   ]
  },
  {
   "cell_type": "code",
   "execution_count": null,
   "metadata": {},
   "outputs": [],
   "source": []
  },
  {
   "cell_type": "markdown",
   "metadata": {},
   "source": [
    "### TO DO: How many more seconds of work do I still have to do?"
   ]
  },
  {
   "cell_type": "code",
   "execution_count": null,
   "metadata": {},
   "outputs": [],
   "source": []
  },
  {
   "cell_type": "markdown",
   "metadata": {},
   "source": [
    "## Variables can be overwritten"
   ]
  },
  {
   "cell_type": "markdown",
   "metadata": {},
   "source": [
    "### Text:"
   ]
  },
  {
   "cell_type": "code",
   "execution_count": null,
   "metadata": {},
   "outputs": [],
   "source": [
    "important_msg = \"zebra\""
   ]
  },
  {
   "cell_type": "code",
   "execution_count": null,
   "metadata": {},
   "outputs": [],
   "source": [
    "important_msg_copy = important_msg"
   ]
  },
  {
   "cell_type": "code",
   "execution_count": null,
   "metadata": {},
   "outputs": [],
   "source": [
    "important_msg"
   ]
  },
  {
   "cell_type": "code",
   "execution_count": null,
   "metadata": {},
   "outputs": [],
   "source": [
    "important_msg_copy"
   ]
  },
  {
   "cell_type": "code",
   "execution_count": null,
   "metadata": {},
   "outputs": [],
   "source": [
    "important_msg = \"lion\""
   ]
  },
  {
   "cell_type": "code",
   "execution_count": null,
   "metadata": {},
   "outputs": [],
   "source": [
    "print(important_msg)"
   ]
  },
  {
   "cell_type": "code",
   "execution_count": null,
   "metadata": {},
   "outputs": [],
   "source": [
    "print(important_msg_copy)"
   ]
  },
  {
   "cell_type": "markdown",
   "metadata": {},
   "source": [
    "### Numbers"
   ]
  },
  {
   "cell_type": "code",
   "execution_count": null,
   "metadata": {},
   "outputs": [],
   "source": [
    "# A common operation is to increase the value of a variable:\n",
    "a = 2\n",
    "a = a + 1\n",
    "a"
   ]
  },
  {
   "cell_type": "code",
   "execution_count": null,
   "metadata": {},
   "outputs": [],
   "source": [
    "# There is a shorthand for this operation:\n",
    "a = 2\n",
    "a += 1\n",
    "a"
   ]
  },
  {
   "cell_type": "markdown",
   "metadata": {},
   "source": [
    "In Python, there are often many ways to do one thing.\n",
    "\n",
    "Which one should you choose? For this semester, use the one that you prefer.\n",
    "Use what works for YOU as you learn Python.\n",
    "\n",
    "There are reasons why professional coders may prefer one method over another.\n",
    "For instance, when you are running a million lines of code, as big companies do,\n",
    "every minute and second of computing time you can save can save a lot of money.\n",
    "\n",
    "But for our purposes, when you encounter numerous methods to do the same thing in Python,\n",
    "again: use the method that works for you."
   ]
  },
  {
   "cell_type": "markdown",
   "metadata": {},
   "source": [
    "## Formatting in Notebooks"
   ]
  },
  {
   "cell_type": "markdown",
   "metadata": {},
   "source": [
    "In this notebook, you have seen some headings, like \"Formatting in Notebooks\" above.\n",
    "\n",
    "The way to do this yourself is click on one or more cells,\n",
    "then the menu above for \"Select the Type\".\n",
    "\n",
    "Depending on your computer, this may be:\n",
    "- displayed below the \"Help\" menu and \n",
    "- showing \"Code\" or \"Markdown\" depending on what cell you're currently in (Markdown for this one)\n",
    "\n",
    "Then add text. Adding `#`, `##`, or `###`, then a space, before text will format a heading (`#` is the largest).\n"
   ]
  },
  {
   "cell_type": "markdown",
   "metadata": {},
   "source": [
    "### TO DO:\n",
    "Try formatting the next cell as Markdown and writing a heading"
   ]
  },
  {
   "cell_type": "code",
   "execution_count": null,
   "metadata": {},
   "outputs": [],
   "source": []
  },
  {
   "cell_type": "markdown",
   "metadata": {},
   "source": [
    "# Print vs call"
   ]
  },
  {
   "cell_type": "code",
   "execution_count": null,
   "metadata": {},
   "outputs": [],
   "source": [
    "# the print function and \"calling\" code are two different things\n",
    "\n",
    "# below, I call variable x:\n",
    "\n",
    "x"
   ]
  },
  {
   "cell_type": "code",
   "execution_count": null,
   "metadata": {},
   "outputs": [],
   "source": [
    "# now, I use the print function to print the variable x\n",
    "\n",
    "print(x)"
   ]
  },
  {
   "cell_type": "markdown",
   "metadata": {},
   "source": [
    "Why use call rather than print? \n",
    "\n",
    "They serve different purposes.\n",
    "The `print()` function is generally for the benefit or convenience of a human user,\n",
    "to show you, the human, some information, in a more cleanly formatted way.\n",
    "\n",
    "But you can always just call a string, number, function, etc. for purposes of code."
   ]
  },
  {
   "cell_type": "markdown",
   "metadata": {},
   "source": [
    "# The order you RUN cells in a Jupyter Notebook matters"
   ]
  },
  {
   "cell_type": "code",
   "execution_count": null,
   "metadata": {},
   "outputs": [],
   "source": [
    "# Cell 1\n",
    "\n",
    "x = 10"
   ]
  },
  {
   "cell_type": "code",
   "execution_count": null,
   "metadata": {},
   "outputs": [],
   "source": [
    "# Cell 2\n",
    "\n",
    "x = 100"
   ]
  },
  {
   "cell_type": "code",
   "execution_count": null,
   "metadata": {},
   "outputs": [],
   "source": [
    "# Cell 3\n",
    "\n",
    "x-10"
   ]
  },
  {
   "cell_type": "markdown",
   "metadata": {},
   "source": [
    "Now, run Cell 1, then Cell 3, but do NOT run Cell 2"
   ]
  },
  {
   "cell_type": "markdown",
   "metadata": {},
   "source": [
    "See? When you run a cell, you commit that cell to Python's \"memory\"\n",
    "\n",
    "The order in which you run the cells matters, not what order the cells are in your \n",
    "Jupyter Notebook"
   ]
  },
  {
   "cell_type": "markdown",
   "metadata": {},
   "source": [
    "# If Python does not run"
   ]
  },
  {
   "cell_type": "code",
   "execution_count": null,
   "metadata": {},
   "outputs": [],
   "source": [
    "1+1"
   ]
  },
  {
   "cell_type": "markdown",
   "metadata": {},
   "source": [
    "If your Jupyter notebook does not perform simple math like 1 + 1, it means that Python is not running on your computer. Try fixing it by restarting your kernel using menu above: `Kernel` / `Restart Kernel`\n",
    "\n",
    "If that does not work, restart Anaconda and re-open Jupyter Notebook."
   ]
  },
  {
   "cell_type": "markdown",
   "metadata": {},
   "source": [
    "# Homework"
   ]
  },
  {
   "cell_type": "markdown",
   "metadata": {},
   "source": [
    "Normally every week, there will be some homework exercises for you to practice on your own.\n",
    "\n",
    "This homework is not checked or graded, but we will provide the answers so you can check your solutions yourself. \n",
    "\n",
    "There is no homework this week. Lucky you!\n",
    "\n",
    "100% of your grade in this module will come from your final assignment, so the homework is just a way to get extra practice."
   ]
  }
 ],
 "metadata": {
  "kernelspec": {
   "display_name": "Python 3 (ipykernel)",
   "language": "python",
   "name": "python3"
  },
  "language_info": {
   "codemirror_mode": {
    "name": "ipython",
    "version": 3
   },
   "file_extension": ".py",
   "mimetype": "text/x-python",
   "name": "python",
   "nbconvert_exporter": "python",
   "pygments_lexer": "ipython3",
   "version": "3.12.11"
  }
 },
 "nbformat": 4,
 "nbformat_minor": 4
}
